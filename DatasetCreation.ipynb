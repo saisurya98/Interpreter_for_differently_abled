{
 "cells": [
  {
   "cell_type": "code",
   "execution_count": 3,
   "metadata": {},
   "outputs": [],
   "source": [
    "import cv2\n",
    "import PIL\n",
    "from PIL import Image\n",
    "from keras.preprocessing import image\n",
    "import numpy as np\n",
    "path = 'roi.jpg'\n",
    "c=0\n",
    "pathimg=''\n",
    "letterimg='A'\n",
    "imno=1\n",
    "# Capture video\n",
    "cap = cv2.VideoCapture(0)\n",
    "# Decrease frame size\n",
    "cap.set(cv2.CAP_PROP_FRAME_WIDTH, 1000)\n",
    "cap.set(cv2.CAP_PROP_FRAME_HEIGHT, 600)\n",
    "# Import font\n",
    "font = cv2.FONT_HERSHEY_SIMPLEX\n",
    "# Continuous capture\n",
    "while(1):\n",
    "#   Capturing individual frames\n",
    "    ret, frame = cap.read()\n",
    "#   Region of interest box setup\n",
    "    x,y,w,h=80,220,350,350\n",
    "    img = cv2.rectangle(frame,(x,y),(x+w,y+h),(0,255,0),2)\n",
    "    roi=frame[y:y+h, x:x+w]\n",
    "#   Saving roi image to jpg file\n",
    "    cv2.imwrite(path,roi)\n",
    "#   Load and convert image to numpy array\n",
    "    img1=image.load_img(path, target_size=(64, 64))  \n",
    "    x=image.img_to_array(img1)\n",
    "    x=np.expand_dims(x, axis=0)\n",
    "    images = np.vstack([x])\n",
    "#start capturing\n",
    "    if(c==1):\n",
    "        imname=pathimg+letterimg+str(imno)+'.jpg'\n",
    "        cv2.imwrite(imname,roi)\n",
    "        imno=imno+1\n",
    "    if(imno==4000):\n",
    "        break\n",
    "    cv2.putText(frame,str(letterimg),(100,100),font,2,(255,255,255),2)\n",
    "    cv2.putText(frame,str(imno),(300,100),font,2,(255,255,255),2)\n",
    "    cv2.imshow('DataSetCreation',frame)    \n",
    "#   Start capturing by pressing 'ESC'\n",
    "    k = cv2.waitKey(5) & 0xFF\n",
    "    if k == 27:\n",
    "        c=1\n",
    "# Release camera       \n",
    "cap.release()\n",
    "cv2.destroyAllWindows()"
   ]
  },
  {
   "cell_type": "code",
   "execution_count": 10,
   "metadata": {},
   "outputs": [],
   "source": [
    "# Release camera on error     \n",
    "cap.release()\n",
    "cv2.destroyAllWindows()"
   ]
  },
  {
   "cell_type": "code",
   "execution_count": null,
   "metadata": {},
   "outputs": [],
   "source": []
  }
 ],
 "metadata": {
  "kernelspec": {
   "display_name": "Python 3",
   "language": "python",
   "name": "python3"
  },
  "language_info": {
   "codemirror_mode": {
    "name": "ipython",
    "version": 3
   },
   "file_extension": ".py",
   "mimetype": "text/x-python",
   "name": "python",
   "nbconvert_exporter": "python",
   "pygments_lexer": "ipython3",
   "version": "3.7.7"
  }
 },
 "nbformat": 4,
 "nbformat_minor": 4
}
